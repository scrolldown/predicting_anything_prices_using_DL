{
 "cells": [
  {
   "cell_type": "code",
   "execution_count": 1,
   "id": "30d6483c",
   "metadata": {},
   "outputs": [
    {
     "name": "stdout",
     "output_type": "stream",
     "text": [
      "/bin/bash: module: line 1: syntax error: unexpected end of file\r\n",
      "/bin/bash: error importing function definition for `module'\r\n",
      "/bin/bash: switchml: line 1: syntax error: unexpected end of file\r\n",
      "/bin/bash: error importing function definition for `switchml'\r\n",
      "Sat Dec 18 08:20:27 2021       \r\n",
      "+-----------------------------------------------------------------------------+\r\n",
      "| NVIDIA-SMI 450.142.00   Driver Version: 450.142.00   CUDA Version: 11.0     |\r\n",
      "|-------------------------------+----------------------+----------------------+\r\n",
      "| GPU  Name        Persistence-M| Bus-Id        Disp.A | Volatile Uncorr. ECC |\r\n",
      "| Fan  Temp  Perf  Pwr:Usage/Cap|         Memory-Usage | GPU-Util  Compute M. |\r\n",
      "|                               |                      |               MIG M. |\r\n",
      "|===============================+======================+======================|\r\n",
      "|   0  Tesla T4            On   | 00000000:00:1E.0 Off |                    0 |\r\n",
      "| N/A   79C    P0    70W /  70W |   3817MiB / 15109MiB |    100%      Default |\r\n",
      "|                               |                      |                  N/A |\r\n",
      "+-------------------------------+----------------------+----------------------+\r\n",
      "                                                                               \r\n",
      "+-----------------------------------------------------------------------------+\r\n",
      "| Processes:                                                                  |\r\n",
      "|  GPU   GI   CI        PID   Type   Process name                  GPU Memory |\r\n",
      "|        ID   ID                                                   Usage      |\r\n",
      "|=============================================================================|\r\n",
      "|    0   N/A  N/A     10055      C   ...ensorflow2_p37/bin/python      487MiB |\r\n",
      "|    0   N/A  N/A     31671      C   /usr/local/sbin/trex             3327MiB |\r\n",
      "+-----------------------------------------------------------------------------+\r\n"
     ]
    }
   ],
   "source": [
    "!nvidia-smi"
   ]
  },
  {
   "cell_type": "code",
   "execution_count": 2,
   "id": "5d3d9d36",
   "metadata": {},
   "outputs": [],
   "source": [
    "import warnings\n",
    "warnings.filterwarnings('ignore')"
   ]
  },
  {
   "cell_type": "code",
   "execution_count": 3,
   "id": "746ebe7d",
   "metadata": {},
   "outputs": [],
   "source": [
    "import time\n",
    "import tensorflow as tf\n",
    "from itertools import product\n",
    "import numpy as np\n",
    "import pandas as pd\n",
    "from tensorflow import keras\n",
    "from tensorflow.keras import layers\n",
    "from datetime import datetime, timedelta\n",
    "from matplotlib import pyplot as plt\n",
    "from numpy import array\n",
    "import logging\n",
    "\n",
    "tf.compat.v1.logging.set_verbosity(tf.compat.v1.logging.ERROR)"
   ]
  },
  {
   "cell_type": "markdown",
   "id": "01db927c",
   "metadata": {},
   "source": [
    "## 로깅 사용"
   ]
  },
  {
   "cell_type": "code",
   "execution_count": 4,
   "id": "ca431c4e",
   "metadata": {},
   "outputs": [],
   "source": [
    "# 로깅 초기화\n",
    "logger = logging.getLogger()\n",
    "logger.setLevel(logging.INFO)\n",
    "formatter = logging.Formatter(u'%(asctime)s %(message)s')\n",
    "# StreamHandler\n",
    "streamingHandler = logging.StreamHandler()\n",
    "streamingHandler.setFormatter(formatter)\n",
    "logger.addHandler(streamingHandler)\n",
    "# FileHandler\n",
    "file_handler = logging.FileHandler('getLog.log')\n",
    "file_handler.setFormatter(formatter)\n",
    "logger.addHandler(file_handler)"
   ]
  },
  {
   "cell_type": "markdown",
   "id": "d5ea8c79",
   "metadata": {},
   "source": [
    "# 모델의 n_steps만큼의 데이터 넣기..."
   ]
  },
  {
   "cell_type": "markdown",
   "id": "a0651dda",
   "metadata": {},
   "source": [
    "## 최고 성능(accuracy) 모델의 하이퍼파라미터 불러오기"
   ]
  },
  {
   "cell_type": "code",
   "execution_count": 28,
   "id": "c645b777",
   "metadata": {
    "scrolled": true
   },
   "outputs": [
    {
     "data": {
      "text/html": [
       "<div>\n",
       "<style scoped>\n",
       "    .dataframe tbody tr th:only-of-type {\n",
       "        vertical-align: middle;\n",
       "    }\n",
       "\n",
       "    .dataframe tbody tr th {\n",
       "        vertical-align: top;\n",
       "    }\n",
       "\n",
       "    .dataframe thead th {\n",
       "        text-align: right;\n",
       "    }\n",
       "</style>\n",
       "<table border=\"1\" class=\"dataframe\">\n",
       "  <thead>\n",
       "    <tr style=\"text-align: right;\">\n",
       "      <th></th>\n",
       "      <th>index</th>\n",
       "      <th>epochs</th>\n",
       "      <th>learning_rate</th>\n",
       "      <th>test_ratio</th>\n",
       "      <th>n_steps</th>\n",
       "      <th>scaler</th>\n",
       "      <th>batch</th>\n",
       "      <th>is_predict</th>\n",
       "      <th>tp</th>\n",
       "      <th>tn</th>\n",
       "      <th>fp</th>\n",
       "      <th>fn</th>\n",
       "      <th>accuracy</th>\n",
       "      <th>recall</th>\n",
       "      <th>precision</th>\n",
       "      <th>loss_history_1</th>\n",
       "      <th>loss_history_2</th>\n",
       "      <th>loss_history_3</th>\n",
       "      <th>loss_history_4</th>\n",
       "      <th>time</th>\n",
       "    </tr>\n",
       "  </thead>\n",
       "  <tbody>\n",
       "    <tr>\n",
       "      <th>63</th>\n",
       "      <td>63</td>\n",
       "      <td>50</td>\n",
       "      <td>0.001</td>\n",
       "      <td>0.3</td>\n",
       "      <td>90</td>\n",
       "      <td>10</td>\n",
       "      <td>512</td>\n",
       "      <td>Y</td>\n",
       "      <td>425</td>\n",
       "      <td>2</td>\n",
       "      <td>306</td>\n",
       "      <td>2</td>\n",
       "      <td>0.58125</td>\n",
       "      <td>0.19486</td>\n",
       "      <td>0.116643</td>\n",
       "      <td>0.015513</td>\n",
       "      <td>0.015491</td>\n",
       "      <td>0.01532</td>\n",
       "      <td>0.014936</td>\n",
       "      <td>0:00:33</td>\n",
       "    </tr>\n",
       "  </tbody>\n",
       "</table>\n",
       "</div>"
      ],
      "text/plain": [
       "    index  epochs  learning_rate  test_ratio  n_steps  scaler  batch  \\\n",
       "63     63      50          0.001         0.3       90      10    512   \n",
       "\n",
       "   is_predict   tp  tn   fp  fn  accuracy   recall  precision  loss_history_1  \\\n",
       "63          Y  425   2  306   2   0.58125  0.19486   0.116643        0.015513   \n",
       "\n",
       "    loss_history_2  loss_history_3  loss_history_4     time  \n",
       "63        0.015491         0.01532        0.014936  0:00:33  "
      ]
     },
     "execution_count": 28,
     "metadata": {},
     "output_type": "execute_result"
    }
   ],
   "source": [
    "# Load highest accuracy AI model info\n",
    "high_acc_model = keras.models.load_model(\"high_CNN-LSTM_SP500.h5\")\n",
    "model_idx = int(high_acc_model.get_config()['name'].split('_')[1])\n",
    "\n",
    "df_result = pd.read_csv('result.csv', sep=',')\n",
    "df_hypParams_Info = df_result[model_idx:model_idx+1]\n",
    "df_hypParams_Info\n",
    "#pred_now = high_acc_model.predict(until_now)\n",
    "#pred_now"
   ]
  },
  {
   "cell_type": "markdown",
   "id": "cd12535b",
   "metadata": {},
   "source": [
    "## 사용할 데이터 불러오기"
   ]
  },
  {
   "cell_type": "code",
   "execution_count": 71,
   "id": "d634cc40",
   "metadata": {
    "scrolled": true
   },
   "outputs": [
    {
     "data": {
      "text/plain": [
       "array([[[            nan],\n",
       "        [ 1.60603743e-02],\n",
       "        [ 2.62190141e-02],\n",
       "        [-7.09025024e-02],\n",
       "        [-1.08043916e-01],\n",
       "        [ 1.25595203e-02],\n",
       "        [ 8.10857715e-02],\n",
       "        [ 8.48769836e-02],\n",
       "        [ 1.49457519e-02],\n",
       "        [ 2.21989018e-02],\n",
       "        [-5.84194983e-02],\n",
       "        [ 8.76902602e-02],\n",
       "        [ 4.29733196e-02],\n",
       "        [-1.35005417e-02],\n",
       "        [ 3.11712776e-03],\n",
       "        [ 2.83411365e-02],\n",
       "        [-3.35083708e-03],\n",
       "        [-3.40127368e-02],\n",
       "        [-1.31501773e-02],\n",
       "        [-4.62067912e-02],\n",
       "        [-7.75263494e-02],\n",
       "        [ 2.27392733e-02],\n",
       "        [-5.75868590e-02],\n",
       "        [ 8.43372417e-02],\n",
       "        [-1.54783407e-02],\n",
       "        [-9.15717422e-02],\n",
       "        [-1.71230593e-01],\n",
       "        [-8.12681549e-03],\n",
       "        [ 9.47456232e-02],\n",
       "        [ 1.20662386e-01],\n",
       "        [ 1.45545067e-02],\n",
       "        [-2.78022378e-02],\n",
       "        [-2.05697735e-01],\n",
       "        [ 1.56334505e-02],\n",
       "        [-1.19812486e-01],\n",
       "        [ 1.14305689e-01],\n",
       "        [-1.30709038e-01],\n",
       "        [ 1.04648325e-01],\n",
       "        [ 4.09908637e-02],\n",
       "        [ 8.25948317e-02],\n",
       "        [-1.91102423e-02],\n",
       "        [-6.88944805e-02],\n",
       "        [-2.42428813e-02],\n",
       "        [ 3.01798511e-02],\n",
       "        [ 1.69192088e-01],\n",
       "        [ 7.43693121e-02],\n",
       "        [ 3.36911519e-02],\n",
       "        [ 7.36614365e-02],\n",
       "        [ 3.65731251e-02],\n",
       "        [ 2.99142089e-02],\n",
       "        [-1.07315260e-02],\n",
       "        [ 4.73693183e-02],\n",
       "        [ 1.81812464e-02],\n",
       "        [-5.06878334e-02],\n",
       "        [ 9.78136542e-02],\n",
       "        [ 1.95179266e-02],\n",
       "        [ 1.79844653e-02],\n",
       "        [ 3.67360333e-02],\n",
       "        [ 6.44049738e-02],\n",
       "        [ 4.17316317e-02],\n",
       "        [ 3.72590035e-02],\n",
       "        [ 8.83051116e-03],\n",
       "        [-3.50060814e-02],\n",
       "        [-8.26412018e-02],\n",
       "        [ 5.50776911e-03],\n",
       "        [ 7.20096724e-02],\n",
       "        [-1.06772927e-04],\n",
       "        [ 3.85774990e-02],\n",
       "        [-2.60501405e-02],\n",
       "        [ 3.37903258e-02],\n",
       "        [-1.40388218e-02],\n",
       "        [-3.19799013e-02],\n",
       "        [ 1.65143994e-02],\n",
       "        [ 2.29127860e-02],\n",
       "        [-2.29870944e-01],\n",
       "        [ 1.31138857e-01],\n",
       "        [-1.91390393e-01],\n",
       "        [-1.18899555e-01],\n",
       "        [ 1.40946567e-01],\n",
       "        [-8.48008434e-02],\n",
       "        [ 1.16626295e-01],\n",
       "        [ 2.04955420e-01],\n",
       "        [ 3.08053733e-02],\n",
       "        [-7.21130800e-02],\n",
       "        [ 9.50382708e-02],\n",
       "        [-9.17393618e-02],\n",
       "        [-7.49862700e-02],\n",
       "        [ 1.62119318e-01],\n",
       "        [-8.78184457e-02],\n",
       "        [-1.03367048e-01]]])"
      ]
     },
     "execution_count": 71,
     "metadata": {},
     "output_type": "execute_result"
    }
   ],
   "source": [
    "df_raw = pd.read_csv('SP_SPX, 1D_until211218.csv'\n",
    "                ,parse_dates=['time']\n",
    "                ,index_col=['time'])\n",
    "df_raw.index=pd.to_datetime(df_raw.index, unit='s')\n",
    "\n",
    "# raw_data의 마지막 날짜 부터 n_steps 날짜까지의 데이터 구하기\n",
    "df_close_untilNow = pd.DataFrame(df_raw['close'][-df_hypParams_Info['n_steps'].values[0]:])\n",
    "\n",
    "\n",
    "# Model 에 들어갔던 데이터와 동일한 data 만들기 (로그차분, scaler 등)\n",
    "\n",
    "df_processed_data = np.log(df_close_untilNow).diff()*df_hypParams_Info['scaler'].values[0]\n",
    "df_processed_data = np.array(df_processed_data).reshape(( df_processed_data.shape[1],df_processed_data.shape[0], len(df_close_untilNow.columns)))\n",
    "df_processed_data[:10]"
   ]
  },
  {
   "cell_type": "markdown",
   "id": "511f341b",
   "metadata": {},
   "source": [
    "## 예측하기"
   ]
  },
  {
   "cell_type": "code",
   "execution_count": 76,
   "id": "8d9ed183",
   "metadata": {},
   "outputs": [
    {
     "name": "stdout",
     "output_type": "stream",
     "text": [
      "상승  예측 diff : [[0.01108564]]\n"
     ]
    }
   ],
   "source": [
    "pred_tomorrow = high_acc_model.predict(df_processed_data)\n",
    "\n",
    "if pred_tomorrow>0 :\n",
    "    print('상승  예측 diff :', pred_tomorrow)\n",
    "else : print('하락  예측 diff :', pred_tomorrow)"
   ]
  },
  {
   "cell_type": "code",
   "execution_count": null,
   "id": "276c0d4e",
   "metadata": {},
   "outputs": [],
   "source": [
    "fig, ax = plt.subplots(figsize=(10,4))\n",
    "train_df_with_pred['close'].plot(ax=ax, legend=True)\n",
    "train_df_with_pred['pred'].plot(ax=ax, legend=True)\n",
    "ax.set_title(\"train t:\"+str(df_result['test_ratio'][i])+\", \"+\\\n",
    "              \"n:\"+str(int(df_result['n_steps'][i]))+\", \"+\\\n",
    "              \"s:\"+str(df_result['scaler'][i])+\", \"+\\\n",
    "              \"b:\"+str(int(df_result['batch'][i]))\n",
    "            )"
   ]
  }
 ],
 "metadata": {
  "kernelspec": {
   "display_name": "Environment (conda_aws_neuron_tensorflow_p36)",
   "language": "python",
   "name": "conda_aws_neuron_tensorflow_p36"
  },
  "language_info": {
   "codemirror_mode": {
    "name": "ipython",
    "version": 3
   },
   "file_extension": ".py",
   "mimetype": "text/x-python",
   "name": "python",
   "nbconvert_exporter": "python",
   "pygments_lexer": "ipython3",
   "version": "3.6.13"
  }
 },
 "nbformat": 4,
 "nbformat_minor": 5
}
